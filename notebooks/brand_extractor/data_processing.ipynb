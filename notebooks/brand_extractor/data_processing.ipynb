{
 "cells": [
  {
   "metadata": {},
   "cell_type": "markdown",
   "source": "# Data Preprocessing",
   "id": "e5d46396c91d64d2"
  },
  {
   "metadata": {},
   "cell_type": "markdown",
   "source": "## Import libraries",
   "id": "469964f81fd0296d"
  },
  {
   "metadata": {
    "ExecuteTime": {
     "end_time": "2024-04-16T12:04:52.095402Z",
     "start_time": "2024-04-16T12:04:52.092238Z"
    }
   },
   "cell_type": "code",
   "source": [
    "import os\n",
    "import json\n",
    "from pathlib import Path\n",
    "\n",
    "import cv2\n",
    "import numpy as np"
   ],
   "id": "86a40dfff3b10f8b",
   "outputs": [],
   "execution_count": 2
  },
  {
   "metadata": {
    "ExecuteTime": {
     "end_time": "2024-04-16T12:04:52.294385Z",
     "start_time": "2024-04-16T12:04:52.288688Z"
    }
   },
   "cell_type": "code",
   "source": [
    "root_dir = Path(os.getcwd()).parent.parent\n",
    "root_dir"
   ],
   "id": "c004e59aa0fdfa20",
   "outputs": [
    {
     "data": {
      "text/plain": [
       "PosixPath('/mnt/d/Projects_D/Brand_Extractor')"
      ]
     },
     "execution_count": 3,
     "metadata": {},
     "output_type": "execute_result"
    }
   ],
   "execution_count": 3
  },
  {
   "metadata": {},
   "cell_type": "markdown",
   "source": "## Load data",
   "id": "6c82c3780a208138"
  },
  {
   "metadata": {
    "ExecuteTime": {
     "end_time": "2024-04-16T12:04:52.614220Z",
     "start_time": "2024-04-16T12:04:52.610071Z"
    }
   },
   "cell_type": "code",
   "source": [
    "data_dir = root_dir / 'data' / 'brand_extractor'\n",
    "data_dir"
   ],
   "id": "c92c148719ecafd",
   "outputs": [
    {
     "data": {
      "text/plain": [
       "PosixPath('/mnt/d/Projects_D/Brand_Extractor/data/brand_extractor')"
      ]
     },
     "execution_count": 4,
     "metadata": {},
     "output_type": "execute_result"
    }
   ],
   "execution_count": 4
  },
  {
   "metadata": {
    "ExecuteTime": {
     "end_time": "2024-04-16T12:04:52.810193Z",
     "start_time": "2024-04-16T12:04:52.805314Z"
    }
   },
   "cell_type": "code",
   "source": [
    "video_dir = data_dir / 'videos'\n",
    "video_dir"
   ],
   "id": "ad9ff6df7f4a87b8",
   "outputs": [
    {
     "data": {
      "text/plain": [
       "PosixPath('/mnt/d/Projects_D/Brand_Extractor/data/brand_extractor/videos')"
      ]
     },
     "execution_count": 5,
     "metadata": {},
     "output_type": "execute_result"
    }
   ],
   "execution_count": 5
  },
  {
   "metadata": {
    "ExecuteTime": {
     "end_time": "2024-04-16T12:04:52.997472Z",
     "start_time": "2024-04-16T12:04:52.993010Z"
    }
   },
   "cell_type": "code",
   "source": [
    "frame_dir = data_dir / 'frames'\n",
    "frame_dir"
   ],
   "id": "702fee01ce651196",
   "outputs": [
    {
     "data": {
      "text/plain": [
       "PosixPath('/mnt/d/Projects_D/Brand_Extractor/data/brand_extractor/frames')"
      ]
     },
     "execution_count": 6,
     "metadata": {},
     "output_type": "execute_result"
    }
   ],
   "execution_count": 6
  },
  {
   "metadata": {
    "ExecuteTime": {
     "end_time": "2024-04-16T12:04:53.188713Z",
     "start_time": "2024-04-16T12:04:53.182390Z"
    }
   },
   "cell_type": "code",
   "source": "video_files = list(video_dir.glob('*.mp4'))",
   "id": "dae89a57aeee942f",
   "outputs": [],
   "execution_count": 7
  },
  {
   "metadata": {
    "ExecuteTime": {
     "end_time": "2024-04-16T12:04:53.365879Z",
     "start_time": "2024-04-16T12:04:53.361964Z"
    }
   },
   "cell_type": "code",
   "source": "video_files",
   "id": "c5e8c3fc6006a10a",
   "outputs": [
    {
     "data": {
      "text/plain": [
       "[PosixPath('/mnt/d/Projects_D/Brand_Extractor/data/brand_extractor/videos/tanishq_mishra_vlogs_lulu_mall.mp4'),\n",
       " PosixPath('/mnt/d/Projects_D/Brand_Extractor/data/brand_extractor/videos/the_explorer_raj_dlf_mall.mp4'),\n",
       " PosixPath('/mnt/d/Projects_D/Brand_Extractor/data/brand_extractor/videos/travel_with_chris_crazy_market_spree.mp4')]"
      ]
     },
     "execution_count": 8,
     "metadata": {},
     "output_type": "execute_result"
    }
   ],
   "execution_count": 8
  },
  {
   "metadata": {
    "ExecuteTime": {
     "end_time": "2024-04-16T12:04:53.569872Z",
     "start_time": "2024-04-16T12:04:53.566958Z"
    }
   },
   "cell_type": "code",
   "source": "video_file = video_files[0]",
   "id": "fbe3f4cd2cb462f4",
   "outputs": [],
   "execution_count": 9
  },
  {
   "metadata": {
    "ExecuteTime": {
     "end_time": "2024-04-16T12:04:53.872539Z",
     "start_time": "2024-04-16T12:04:53.868301Z"
    }
   },
   "cell_type": "code",
   "source": [
    "video_name = video_file.stem\n",
    "video_name"
   ],
   "id": "9e7060c3a407d054",
   "outputs": [
    {
     "data": {
      "text/plain": [
       "'tanishq_mishra_vlogs_lulu_mall'"
      ]
     },
     "execution_count": 10,
     "metadata": {},
     "output_type": "execute_result"
    }
   ],
   "execution_count": 10
  },
  {
   "metadata": {},
   "cell_type": "markdown",
   "source": "## Load video",
   "id": "be8d1db900169e41"
  },
  {
   "metadata": {
    "ExecuteTime": {
     "end_time": "2024-04-16T12:04:54.463471Z",
     "start_time": "2024-04-16T12:04:54.433957Z"
    }
   },
   "cell_type": "code",
   "source": "video_capture = cv2.VideoCapture(str(video_file))",
   "id": "e8a26f0f70709b7b",
   "outputs": [],
   "execution_count": 11
  },
  {
   "metadata": {
    "ExecuteTime": {
     "end_time": "2024-04-16T12:04:54.624117Z",
     "start_time": "2024-04-16T12:04:54.620136Z"
    }
   },
   "cell_type": "code",
   "source": "video_capture.isOpened()",
   "id": "f34f7006563c39a9",
   "outputs": [
    {
     "data": {
      "text/plain": [
       "True"
      ]
     },
     "execution_count": 12,
     "metadata": {},
     "output_type": "execute_result"
    }
   ],
   "execution_count": 12
  },
  {
   "metadata": {
    "ExecuteTime": {
     "end_time": "2024-04-16T12:04:54.813019Z",
     "start_time": "2024-04-16T12:04:54.808526Z"
    }
   },
   "cell_type": "code",
   "source": [
    "video_fps = video_capture.get(cv2.CAP_PROP_FPS)\n",
    "video_fps"
   ],
   "id": "661d10b720c0d805",
   "outputs": [
    {
     "data": {
      "text/plain": [
       "60.0"
      ]
     },
     "execution_count": 13,
     "metadata": {},
     "output_type": "execute_result"
    }
   ],
   "execution_count": 13
  },
  {
   "metadata": {
    "ExecuteTime": {
     "end_time": "2024-04-16T12:04:55.005966Z",
     "start_time": "2024-04-16T12:04:55.001020Z"
    }
   },
   "cell_type": "code",
   "source": [
    "total_frames = int(video_capture.get(cv2.CAP_PROP_FRAME_COUNT))\n",
    "total_frames"
   ],
   "id": "5af5b2782392a648",
   "outputs": [
    {
     "data": {
      "text/plain": [
       "71990"
      ]
     },
     "execution_count": 14,
     "metadata": {},
     "output_type": "execute_result"
    }
   ],
   "execution_count": 14
  },
  {
   "metadata": {
    "ExecuteTime": {
     "end_time": "2024-04-16T12:04:55.203473Z",
     "start_time": "2024-04-16T12:04:55.199256Z"
    }
   },
   "cell_type": "code",
   "source": [
    "video_width = int(video_capture.get(cv2.CAP_PROP_FRAME_WIDTH))\n",
    "video_height = int(video_capture.get(cv2.CAP_PROP_FRAME_HEIGHT))\n",
    "video_width, video_height"
   ],
   "id": "d757f47248573284",
   "outputs": [
    {
     "data": {
      "text/plain": [
       "(1920, 1080)"
      ]
     },
     "execution_count": 15,
     "metadata": {},
     "output_type": "execute_result"
    }
   ],
   "execution_count": 15
  },
  {
   "metadata": {},
   "cell_type": "markdown",
   "source": "## Process Video",
   "id": "ef46b2a2a26b9a1"
  },
  {
   "metadata": {
    "ExecuteTime": {
     "end_time": "2024-04-16T12:04:56.414729Z",
     "start_time": "2024-04-16T12:04:56.411521Z"
    }
   },
   "cell_type": "code",
   "source": "sample_fps = 1",
   "id": "e86ae2be15362d15",
   "outputs": [],
   "execution_count": 16
  },
  {
   "metadata": {
    "ExecuteTime": {
     "end_time": "2024-04-16T12:04:56.716221Z",
     "start_time": "2024-04-16T12:04:56.709334Z"
    }
   },
   "cell_type": "code",
   "source": [
    "video_frame_dir = frame_dir / video_name\n",
    "video_frame_dir.mkdir(exist_ok=True)\n",
    "video_frame_dir"
   ],
   "id": "b1c12e44f0a21066",
   "outputs": [
    {
     "data": {
      "text/plain": [
       "PosixPath('/mnt/d/Projects_D/Brand_Extractor/data/brand_extractor/frames/tanishq_mishra_vlogs_lulu_mall')"
      ]
     },
     "execution_count": 17,
     "metadata": {},
     "output_type": "execute_result"
    }
   ],
   "execution_count": 17
  },
  {
   "metadata": {
    "ExecuteTime": {
     "end_time": "2024-04-16T12:04:57.039711Z",
     "start_time": "2024-04-16T12:04:57.033271Z"
    }
   },
   "cell_type": "code",
   "source": [
    "image_dir = video_frame_dir / 'images'\n",
    "image_dir.mkdir(exist_ok=True)\n",
    "image_dir"
   ],
   "id": "28d48dbb5403d6ca",
   "outputs": [
    {
     "data": {
      "text/plain": [
       "PosixPath('/mnt/d/Projects_D/Brand_Extractor/data/brand_extractor/frames/tanishq_mishra_vlogs_lulu_mall/images')"
      ]
     },
     "execution_count": 18,
     "metadata": {},
     "output_type": "execute_result"
    }
   ],
   "execution_count": 18
  },
  {
   "metadata": {
    "ExecuteTime": {
     "end_time": "2024-04-16T12:04:59.068255Z",
     "start_time": "2024-04-16T12:04:59.064814Z"
    }
   },
   "cell_type": "code",
   "source": [
    "frame_data = {\n",
    "    \"video\": video_name,\n",
    "    \"fps\": video_fps,\n",
    "    \"total_frames\": total_frames,\n",
    "    \"width\": video_width,\n",
    "    \"height\": video_height,\n",
    "    \"sample_fps\": sample_fps,\n",
    "    \"frames\": []\n",
    "}"
   ],
   "id": "35089afd2b5e8117",
   "outputs": [],
   "execution_count": 19
  },
  {
   "metadata": {
    "ExecuteTime": {
     "end_time": "2024-04-16T12:11:31.284902Z",
     "start_time": "2024-04-16T12:05:58.357155Z"
    }
   },
   "cell_type": "code",
   "source": [
    "# extract every 1 seconds\n",
    "for i in range(0, total_frames, int(video_fps/sample_fps)):\n",
    "    video_capture.set(cv2.CAP_PROP_POS_FRAMES, i)\n",
    "    ret, frame = video_capture.read()\n",
    "    if ret:\n",
    "        frame = cv2.cvtColor(frame, cv2.COLOR_BGR2RGB)\n",
    "        frame = cv2.resize(frame, (1280, 720))\n",
    "        frame_file = video_frame_dir / 'images' /f'{i//int(video_fps/sample_fps):04d}.png'\n",
    "        frame_data[\"frames\"].append({\n",
    "            \"frame\": f'{i//int(video_fps/sample_fps):04d}',\n",
    "            \"frame_file\": str(frame_file),\n",
    "            \"frame_timestamp\": i / video_fps\n",
    "            \n",
    "        })\n",
    "        cv2.imwrite(str(frame_file), cv2.cvtColor(frame, cv2.COLOR_RGB2BGR))"
   ],
   "id": "fcbf5c5430c5bd42",
   "outputs": [],
   "execution_count": 24
  },
  {
   "metadata": {
    "ExecuteTime": {
     "end_time": "2024-04-16T12:11:31.289924Z",
     "start_time": "2024-04-16T12:11:31.286541Z"
    }
   },
   "cell_type": "code",
   "source": "frame_data[\"sample_frames\"] = len(frame_data[\"frames\"])",
   "id": "eb1eb6de75e39c0f",
   "outputs": [],
   "execution_count": 25
  },
  {
   "metadata": {
    "ExecuteTime": {
     "end_time": "2024-04-16T12:11:31.307258Z",
     "start_time": "2024-04-16T12:11:31.291259Z"
    }
   },
   "cell_type": "code",
   "source": "frame_data.keys()",
   "id": "aee17080e3495fb4",
   "outputs": [
    {
     "data": {
      "text/plain": [
       "dict_keys(['video', 'fps', 'total_frames', 'width', 'height', 'sample_fps', 'frames', 'sample_frames'])"
      ]
     },
     "execution_count": 26,
     "metadata": {},
     "output_type": "execute_result"
    }
   ],
   "execution_count": 26
  },
  {
   "metadata": {
    "ExecuteTime": {
     "end_time": "2024-04-16T12:11:31.339238Z",
     "start_time": "2024-04-16T12:11:31.308849Z"
    }
   },
   "cell_type": "code",
   "source": [
    "# save frame data\n",
    "frame_data_file = video_frame_dir / 'frame_data.json'\n",
    "with open(frame_data_file, 'w') as f:\n",
    "    json.dump(frame_data, f)"
   ],
   "id": "d98331cf19b88958",
   "outputs": [],
   "execution_count": 27
  },
  {
   "metadata": {
    "ExecuteTime": {
     "end_time": "2024-04-16T12:11:31.347918Z",
     "start_time": "2024-04-16T12:11:31.340501Z"
    }
   },
   "cell_type": "code",
   "source": "video_capture.release()",
   "id": "6fbe8f451fc68a42",
   "outputs": [],
   "execution_count": 28
  },
  {
   "metadata": {
    "ExecuteTime": {
     "end_time": "2024-04-16T12:11:31.351175Z",
     "start_time": "2024-04-16T12:11:31.349106Z"
    }
   },
   "cell_type": "code",
   "source": "",
   "id": "4b54b2dc554a0d83",
   "outputs": [],
   "execution_count": 28
  },
  {
   "metadata": {},
   "cell_type": "markdown",
   "source": "# End",
   "id": "1343ba327fb2185d"
  }
 ],
 "metadata": {
  "kernelspec": {
   "display_name": "Python 3",
   "language": "python",
   "name": "python3"
  },
  "language_info": {
   "codemirror_mode": {
    "name": "ipython",
    "version": 2
   },
   "file_extension": ".py",
   "mimetype": "text/x-python",
   "name": "python",
   "nbconvert_exporter": "python",
   "pygments_lexer": "ipython2",
   "version": "2.7.6"
  }
 },
 "nbformat": 4,
 "nbformat_minor": 5
}
