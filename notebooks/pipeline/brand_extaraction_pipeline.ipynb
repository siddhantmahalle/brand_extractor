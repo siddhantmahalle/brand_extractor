{
 "cells": [
  {
   "metadata": {},
   "cell_type": "markdown",
   "source": "# Brand Logo and Name Extraction Pipeline",
   "id": "d3d75f1e225042ca"
  },
  {
   "metadata": {},
   "cell_type": "markdown",
   "source": "## Import Libraries",
   "id": "8c044c4385ab09fd"
  },
  {
   "metadata": {
    "ExecuteTime": {
     "end_time": "2024-04-19T21:57:38.176157Z",
     "start_time": "2024-04-19T21:57:35.042932Z"
    }
   },
   "cell_type": "code",
   "source": [
    "import os\n",
    "import string\n",
    "\n",
    "import pandas as pd\n",
    "import cv2\n",
    "from pathlib import Path\n",
    "import logging\n",
    "from tqdm import tqdm\n",
    "import numpy as np\n",
    "import matplotlib.pyplot as plt\n",
    "from copy import deepcopy\n",
    "\n",
    "from fuzzywuzzy import fuzz\n",
    "from ultralytics import YOLO\n",
    "from paddleocr import PaddleOCR\n",
    "from skimage.metrics import structural_similarity as ssim"
   ],
   "id": "bee5fc3cbe4477f9",
   "outputs": [],
   "execution_count": 1
  },
  {
   "metadata": {
    "ExecuteTime": {
     "end_time": "2024-04-19T21:57:38.183901Z",
     "start_time": "2024-04-19T21:57:38.178295Z"
    }
   },
   "cell_type": "code",
   "source": [
    "root_dir = Path.cwd().parent.parent\n",
    "root_dir"
   ],
   "id": "ebd684fcd9200a27",
   "outputs": [
    {
     "data": {
      "text/plain": [
       "PosixPath('/mnt/d/Projects_D/Brand_Extractor')"
      ]
     },
     "execution_count": 2,
     "metadata": {},
     "output_type": "execute_result"
    }
   ],
   "execution_count": 2
  },
  {
   "metadata": {
    "ExecuteTime": {
     "end_time": "2024-04-19T21:57:38.200403Z",
     "start_time": "2024-04-19T21:57:38.185231Z"
    }
   },
   "cell_type": "code",
   "source": "%env YOLO_VERBOSE = False",
   "id": "a0e0563d8380f5dc",
   "outputs": [
    {
     "name": "stdout",
     "output_type": "stream",
     "text": [
      "env: YOLO_VERBOSE=False\n"
     ]
    }
   ],
   "execution_count": 3
  },
  {
   "metadata": {
    "ExecuteTime": {
     "end_time": "2024-04-19T21:57:38.214543Z",
     "start_time": "2024-04-19T21:57:38.202759Z"
    }
   },
   "cell_type": "code",
   "source": "logging.basicConfig(level=logging.ERROR)",
   "id": "a29e36374098aa4c",
   "outputs": [],
   "execution_count": 4
  },
  {
   "metadata": {},
   "cell_type": "markdown",
   "source": "## Config",
   "id": "c273e206d2d20165"
  },
  {
   "metadata": {
    "ExecuteTime": {
     "end_time": "2024-04-19T21:57:38.233358Z",
     "start_time": "2024-04-19T21:57:38.215829Z"
    }
   },
   "cell_type": "code",
   "source": [
    "class Config:\n",
    "    sample_fps = 1 # Sample sample_fps frame per second\n",
    "    padding = 10 # Padding for the logo bounding box\n",
    "    min_brand_name_len = 3 # Minimum length of the brand name\n",
    "    brand_name_match_threshold = 80 # Fuzzy matching threshold for brand names\n",
    "    max_brand_name_occurance_ratio = 0.1 # Maximum occurance ratio of a brand name in the frames\n"
   ],
   "id": "e4da59902eaccb93",
   "outputs": [],
   "execution_count": 5
  },
  {
   "metadata": {
    "ExecuteTime": {
     "end_time": "2024-04-19T21:57:38.249058Z",
     "start_time": "2024-04-19T21:57:38.234650Z"
    }
   },
   "cell_type": "code",
   "source": "CONFIG = Config()",
   "id": "ee60cd76a4a357c0",
   "outputs": [],
   "execution_count": 6
  },
  {
   "metadata": {},
   "cell_type": "markdown",
   "source": "## Data",
   "id": "abf33707c7af5891"
  },
  {
   "metadata": {},
   "cell_type": "markdown",
   "source": "### Video Data",
   "id": "c5b191de01bbffd6"
  },
  {
   "metadata": {
    "ExecuteTime": {
     "end_time": "2024-04-19T21:57:38.264634Z",
     "start_time": "2024-04-19T21:57:38.250538Z"
    }
   },
   "cell_type": "code",
   "source": "data_dir = root_dir / 'data' / 'video_preprocessing' / 'videos'",
   "id": "ad5458834929635e",
   "outputs": [],
   "execution_count": 7
  },
  {
   "metadata": {
    "ExecuteTime": {
     "end_time": "2024-04-19T21:57:38.285123Z",
     "start_time": "2024-04-19T21:57:38.266092Z"
    }
   },
   "cell_type": "code",
   "source": [
    "videos = list(data_dir.glob('*.mp4'))\n",
    "videos"
   ],
   "id": "6e9a729c4f0e664e",
   "outputs": [
    {
     "data": {
      "text/plain": [
       "[PosixPath('/mnt/d/Projects_D/Brand_Extractor/data/video_preprocessing/videos/cities_walk_dubai_mall.mp4'),\n",
       " PosixPath('/mnt/d/Projects_D/Brand_Extractor/data/video_preprocessing/videos/london_city_tour_luxury_shopping.mp4'),\n",
       " PosixPath('/mnt/d/Projects_D/Brand_Extractor/data/video_preprocessing/videos/royal_houseguard_westfield_mall.mp4'),\n",
       " PosixPath('/mnt/d/Projects_D/Brand_Extractor/data/video_preprocessing/videos/tanishq_mishra_vlogs_lulu_mall.mp4'),\n",
       " PosixPath('/mnt/d/Projects_D/Brand_Extractor/data/video_preprocessing/videos/the_explorer_raj_dlf_mall.mp4'),\n",
       " PosixPath('/mnt/d/Projects_D/Brand_Extractor/data/video_preprocessing/videos/travel_with_chris_crazy_market_spree.mp4'),\n",
       " PosixPath('/mnt/d/Projects_D/Brand_Extractor/data/video_preprocessing/videos/walking_tours_macys_nordstorm.mp4')]"
      ]
     },
     "execution_count": 8,
     "metadata": {},
     "output_type": "execute_result"
    }
   ],
   "execution_count": 8
  },
  {
   "metadata": {},
   "cell_type": "markdown",
   "source": "### Model Data",
   "id": "74eb0cc217cf3a7"
  },
  {
   "metadata": {
    "ExecuteTime": {
     "end_time": "2024-04-19T21:57:38.297755Z",
     "start_time": "2024-04-19T21:57:38.287235Z"
    }
   },
   "cell_type": "code",
   "source": [
    "model_dir = root_dir / 'training_history' / 'yolov8' / 'logos'\n",
    "model_dir"
   ],
   "id": "da6333742b1ab724",
   "outputs": [
    {
     "data": {
      "text/plain": [
       "PosixPath('/mnt/d/Projects_D/Brand_Extractor/training_history/yolov8/logos')"
      ]
     },
     "execution_count": 9,
     "metadata": {},
     "output_type": "execute_result"
    }
   ],
   "execution_count": 9
  },
  {
   "metadata": {
    "ExecuteTime": {
     "end_time": "2024-04-19T21:57:38.315610Z",
     "start_time": "2024-04-19T21:57:38.299918Z"
    }
   },
   "cell_type": "code",
   "source": [
    "model_checkpoint = model_dir / 'weights' / 'best.pt'\n",
    "model_checkpoint"
   ],
   "id": "cdacdc983f32c5a6",
   "outputs": [
    {
     "data": {
      "text/plain": [
       "PosixPath('/mnt/d/Projects_D/Brand_Extractor/training_history/yolov8/logos/weights/best.pt')"
      ]
     },
     "execution_count": 10,
     "metadata": {},
     "output_type": "execute_result"
    }
   ],
   "execution_count": 10
  },
  {
   "metadata": {},
   "cell_type": "markdown",
   "source": "## Pipeline Steps",
   "id": "59e3675c23d95f21"
  },
  {
   "metadata": {},
   "cell_type": "markdown",
   "source": [
    "The pipeline consists of the following steps:\n",
    "1. Video processing (extracting frames)\n",
    "2. Detect brand logo (Object Detection)\n",
    "3. Extracting brand name (Text Recognition)\n",
    "4. Saving the extracted brand logo and name"
   ],
   "id": "55f739fef231d2ca"
  },
  {
   "metadata": {},
   "cell_type": "markdown",
   "source": "## Utils",
   "id": "bcdff717785756d5"
  },
  {
   "metadata": {
    "ExecuteTime": {
     "end_time": "2024-04-19T21:57:38.332659Z",
     "start_time": "2024-04-19T21:57:38.317415Z"
    }
   },
   "cell_type": "code",
   "source": [
    "class UnionFind:\n",
    "    def __init__(self, n):\n",
    "        self.parent = list(range(n))\n",
    "        self.rank = [0] * n\n",
    "\n",
    "    def find(self, x):\n",
    "        if self.parent[x] != x:\n",
    "            self.parent[x] = self.find(self.parent[x])\n",
    "        return self.parent[x]\n",
    "\n",
    "    def union(self, x, y):\n",
    "        root_x, root_y = self.find(x), self.find(y)\n",
    "        if root_x != root_y:\n",
    "            if self.rank[root_x] > self.rank[root_y]:\n",
    "                self.parent[root_y] = root_x\n",
    "            else:\n",
    "                self.parent[root_x] = root_y\n",
    "                if self.rank[root_x] == self.rank[root_y]:\n",
    "                    self.rank[root_y] += 1"
   ],
   "id": "d52efd0fd4c34f16",
   "outputs": [],
   "execution_count": 11
  },
  {
   "metadata": {},
   "cell_type": "markdown",
   "source": "## Detect Brand Logo",
   "id": "d25f02b3999a86c5"
  },
  {
   "metadata": {
    "ExecuteTime": {
     "end_time": "2024-04-19T21:57:38.349980Z",
     "start_time": "2024-04-19T21:57:38.334456Z"
    }
   },
   "cell_type": "code",
   "source": [
    "class BrandLogoDetector:\n",
    "    def __init__(self):\n",
    "        \n",
    "        self.brand_logo_frames = []\n",
    "        self.__load_model()\n",
    "        \n",
    "    def __load_model(self):\n",
    "        self.model = YOLO(model_checkpoint)\n",
    "        print(self.model.info())    \n",
    "    \n",
    "    def extract_brand_logo(self, frame_data):\n",
    "        results = self.model(frame_data['frame'], verbose=False)\n",
    "        if len(results[0].boxes) > 0:\n",
    "            frame_data['logo_detection'] = results[0].boxes\n",
    "            frame_data['contains_logo'] = True\n",
    "        \n",
    "        return frame_data"
   ],
   "id": "70984bc4ef60dd40",
   "outputs": [],
   "execution_count": 12
  },
  {
   "metadata": {},
   "cell_type": "markdown",
   "source": "## Extracting Brand Name",
   "id": "71541c6e27f42f95"
  },
  {
   "metadata": {
    "ExecuteTime": {
     "end_time": "2024-04-19T21:57:38.368547Z",
     "start_time": "2024-04-19T21:57:38.351670Z"
    }
   },
   "cell_type": "code",
   "source": [
    "class BrandNameExtractor:\n",
    "    def __init__(self, frame_shape):\n",
    "        self.__load_model()\n",
    "        self.frame_shape = frame_shape\n",
    "                \n",
    "    def __load_model(self):\n",
    "        self.ocr = PaddleOCR(show_log = False, use_angle_cls=True, use_gpu=True)\n",
    "        logging.getLogger('ppocr').handlers = []\n",
    "        \n",
    "    def extract_brand_name(self, frame_data):\n",
    "        \n",
    "        if frame_data.get('logo_detection') is None:\n",
    "            return frame_data\n",
    "        \n",
    "        results = frame_data.get('logo_detection')\n",
    "        \n",
    "        for box in results:\n",
    "            x1 = int(box.xyxy[0][0].item())\n",
    "            y1 = int(box.xyxy[0][1].item())\n",
    "            x2 = int(box.xyxy[0][2].item())\n",
    "            y2 = int(box.xyxy[0][3].item())\n",
    "            \n",
    "            # add some padding to the box\n",
    "            x1 = max(0, x1 - CONFIG.padding)\n",
    "            y1 = max(0, y1 - CONFIG.padding)\n",
    "            x2 = min(self.frame_shape[1], x2 + CONFIG.padding)\n",
    "            y2 = min(self.frame_shape[0], y2 + CONFIG.padding)\n",
    "            \n",
    "            cropped_frame = frame_data['frame'][y1:y2, x1:x2]\n",
    "            result = self.ocr.ocr(cropped_frame, cls=True, det=True, rec=True)\n",
    "\n",
    "            if result[0] is not None:\n",
    "\n",
    "                frame_data['contains_brand_name'] = True\n",
    "                frame_data['brand_names'] = []\n",
    "                for items in result[0]:\n",
    "                    brand_name = items[1][0]\n",
    "                \n",
    "                    brand_name_data = {\n",
    "                        'brand_name': brand_name,\n",
    "                        'box_coordinates': (x1, y1, x2, y2)\n",
    "                    }\n",
    "                    frame_data['brand_names'].append(brand_name_data)\n",
    "        \n",
    "        return frame_data"
   ],
   "id": "de0bce8d21b86efc",
   "outputs": [],
   "execution_count": 13
  },
  {
   "metadata": {},
   "cell_type": "markdown",
   "source": [
    "\n",
    "## Video Processing"
   ],
   "id": "b3c75b52090d7646"
  },
  {
   "metadata": {
    "ExecuteTime": {
     "end_time": "2024-04-19T21:57:38.392418Z",
     "start_time": "2024-04-19T21:57:38.370390Z"
    }
   },
   "cell_type": "code",
   "source": [
    "class VideoProcessor:\n",
    "    def __init__(self, video_path):\n",
    "\n",
    "        self.video_path = video_path\n",
    "        self.video_name = video_path.stem\n",
    "        self.video = cv2.VideoCapture(str(video_path))\n",
    "        self.fps = self.video.get(cv2.CAP_PROP_FPS)\n",
    "        self.total_frames = int(self.video.get(cv2.CAP_PROP_FRAME_COUNT))\n",
    "        self.frame_width = int(self.video.get(cv2.CAP_PROP_FRAME_WIDTH))\n",
    "        self.frame_height = int(self.video.get(cv2.CAP_PROP_FRAME_HEIGHT))\n",
    "        self.frame_shape = (self.frame_height, self.frame_width)\n",
    "        self.sample_fps = CONFIG.sample_fps\n",
    "        \n",
    "        self.frames = []\n",
    "        self.brand_data = []\n",
    "        \n",
    "        self.logo_detector = BrandLogoDetector()\n",
    "        self.brand_name_extractor = BrandNameExtractor(frame_shape=self.frame_shape)\n",
    "\n",
    "    def extract_frames(self, frame_interval=1):\n",
    "        step = max(1, int(self.fps / self.sample_fps)) * frame_interval\n",
    "        current_frame = 0\n",
    "        self.video.set(cv2.CAP_PROP_POS_FRAMES, 0)\n",
    "\n",
    "        for i in tqdm(range(self.total_frames)):\n",
    "            ret, frame = self.video.read()\n",
    "            if not ret:\n",
    "                break\n",
    "            if i % step == 0:\n",
    "                frame_data = {\n",
    "                    'frame_index': int(current_frame),\n",
    "                    'timestamp': round(self.video.get(cv2.CAP_PROP_POS_MSEC)/1000, 2),\n",
    "                    'frame': cv2.cvtColor(frame, cv2.COLOR_BGR2RGB),\n",
    "                    'contains_logo': False,\n",
    "                    'contains_brand_name': False\n",
    "                }\n",
    "                \n",
    "                current_frame += 1\n",
    "\n",
    "                frame_data = self.logo_detector.extract_brand_logo(frame_data)\n",
    "                frame_data = self.brand_name_extractor.extract_brand_name(frame_data)\n",
    "                frame_data.pop('frame')\n",
    "                \n",
    "                self.frames.append(frame_data)\n",
    "        \n",
    "        self.video.release()\n",
    "        self.process_brand_name()\n",
    "        \n",
    "        return self.frames\n",
    "\n",
    "    def process_brand_name(self):\n",
    "\n",
    "        # remove names less than 3 characters or only numbers\n",
    "\n",
    "        for frame in self.frames:\n",
    "            if frame['contains_brand_name']:\n",
    "                frame['brand_names'] = [brand for brand in frame['brand_names'] if len(brand['brand_name']) > CONFIG.min_brand_name_len and not brand['brand_name'].isdigit()]\n",
    "\n",
    "        brand_names = []\n",
    "\n",
    "        for frame in self.frames:\n",
    "            if frame['contains_brand_name']:\n",
    "                brand_names.extend([(brand[\"brand_name\"], frame['frame_index'], index) for index, brand in enumerate(frame['brand_names'])])\n",
    "\n",
    "        brand_names = np.array(brand_names)\n",
    "\n",
    "        unique_brand_names = np.unique(brand_names[:, 0])\n",
    "\n",
    "        # find similar names using fuzzy matching with partial ratio > 80\n",
    "        similar_names = []\n",
    "\n",
    "\n",
    "        for name1 in unique_brand_names:\n",
    "            for name2 in unique_brand_names:\n",
    "                if name1 != name2 and fuzz.partial_ratio(name1, name2) > CONFIG.brand_name_match_threshold and len(name1) - len(name2) < 3:\n",
    "                    similar_names.append((name1, name2))\n",
    "\n",
    "        # print(similar_names)\n",
    "\n",
    "        # create clusters of similar names\n",
    "        uf = UnionFind(len(unique_brand_names))\n",
    "        for name1, name2 in similar_names:\n",
    "            uf.union(np.where(unique_brand_names == name1)[0][0], np.where(unique_brand_names == name2)[0][0])\n",
    "\n",
    "        clusters = {}\n",
    "\n",
    "        for i in range(len(unique_brand_names)):\n",
    "            root = uf.find(i)\n",
    "            if root not in clusters:\n",
    "                clusters[root] = []\n",
    "            clusters[root].append(unique_brand_names[i])\n",
    "\n",
    "        # print(clusters)\n",
    "\n",
    "        # replace the name with lower word count with the higher word count for similar names cluster\n",
    "\n",
    "        for cluster in clusters.values():\n",
    "            cluster = sorted(cluster, key=lambda x: len([i for i in x if i not in string.punctuation]), reverse=True)\n",
    "            print(cluster)\n",
    "            for i in range(1, len(cluster)):\n",
    "                brand_names[brand_names == cluster[i]] = cluster[0]\n",
    "\n",
    "        # assign the processed brand names to the frames\n",
    "\n",
    "        for frame in self.frames:\n",
    "            if frame['contains_brand_name']:\n",
    "                brand_data = brand_names[brand_names[:, 1] == str(frame['frame_index'])]\n",
    "                frame['brand_names'] = [{'brand_name': brand[0], 'box_coordinates': frame['brand_names'][int(brand[2])]['box_coordinates']} for brand in brand_data]\n",
    "                if len(frame['brand_names']) == 0:\n",
    "                    frame['contains_brand_name'] = False\n",
    "\n",
    "\n",
    "        # remove names that occur in more than 10% of the frames\n",
    "\n",
    "        brand_names = []\n",
    "        frame_with_brand = 0\n",
    "        for frame in self.frames:\n",
    "            if frame['contains_brand_name']:\n",
    "                brand_names.extend([brand['brand_name'] for brand in frame['brand_names']])\n",
    "                frame_with_brand += 1\n",
    "\n",
    "        unique_brand_names = np.unique(brand_names)\n",
    "\n",
    "        for name in unique_brand_names:\n",
    "            count = 0\n",
    "            for frame in self.frames:\n",
    "                if frame['contains_brand_name']:\n",
    "                    for brand in frame['brand_names']:\n",
    "                        if brand['brand_name'].lower() == name.lower():\n",
    "                            count += 1\n",
    "                            break\n",
    "            if count > CONFIG.max_brand_name_occurance_ratio * frame_with_brand:\n",
    "                for frame in self.frames:\n",
    "                    if frame['contains_brand_name']:\n",
    "                        frame['brand_names'] = [brand for brand in frame['brand_names'] if brand['brand_name'] != name]\n",
    "                        if len(frame['brand_names']) == 0:\n",
    "                            frame['contains_brand_name'] = False"
   ],
   "id": "446d7319c8b78ff",
   "outputs": [],
   "execution_count": 14
  },
  {
   "metadata": {},
   "cell_type": "markdown",
   "source": "## Saving Extracted Brand Logo and Name",
   "id": "8bd90264d266cf09"
  },
  {
   "metadata": {
    "ExecuteTime": {
     "end_time": "2024-04-19T21:57:38.413920Z",
     "start_time": "2024-04-19T21:57:38.394178Z"
    }
   },
   "cell_type": "code",
   "source": [
    "def merge_nearby_boxes(brand_boxes):\n",
    "    import numpy as np\n",
    "\n",
    "    if not brand_boxes:\n",
    "        return []\n",
    "\n",
    "    # Convert box coordinates into a more usable format\n",
    "    def convert(box):\n",
    "        x1, y1, x2, y2 = box['box_coordinates']\n",
    "        return x1, y1, x2, y2\n",
    "\n",
    "    boxes = [convert(box) for box in brand_boxes]\n",
    "\n",
    "    # Calculate intersections and unions for merging\n",
    "    def intersects(box1, box2):\n",
    "        x1, y1, x2, y2 = box1\n",
    "        x3, y3, x4, y4 = box2\n",
    "        return not (x2 < x3 or x4 < x1 or y2 < y3 or y4 < y1)\n",
    "\n",
    "    def merge_boxes(box1, box2):\n",
    "        x1, y1, x2, y2 = box1\n",
    "        x3, y3, x4, y4 = box2\n",
    "        new_x1 = min(x1, x3)\n",
    "        new_y1 = min(y1, y3)\n",
    "        new_x2 = max(x2, x4)\n",
    "        new_y2 = max(y2, y4)\n",
    "        return new_x1, new_y1, new_x2, new_y2\n",
    "\n",
    "    # Initialize merged list with dictionaries to store merged details\n",
    "    merged_details = [{'coordinates': box, 'brands': set([b['brand_name']])} for box, b in zip(boxes, brand_boxes)]\n",
    "\n",
    "    # Iteratively merge all intersecting boxes with brand accumulation\n",
    "    merged = True\n",
    "    while merged:\n",
    "        merged = False\n",
    "        new_details = []\n",
    "        while merged_details:\n",
    "            current = merged_details.pop()\n",
    "            found = False\n",
    "            for i, other in enumerate(new_details):\n",
    "                if intersects(current['coordinates'], other['coordinates']):\n",
    "                    # Merge the boxes\n",
    "                    other['coordinates'] = merge_boxes(current['coordinates'], other['coordinates'])\n",
    "                    # Accumulate brand names\n",
    "                    other['brands'].update(current['brands'])\n",
    "                    found = True\n",
    "                    merged = True\n",
    "                    break\n",
    "            if not found:\n",
    "                new_details.append(current)\n",
    "        merged_details = new_details\n",
    "\n",
    "    # Map merged boxes and brands back to original brand data format\n",
    "    merged_brand_boxes = []\n",
    "    for detail in merged_details:\n",
    "        representative = next((b for b in brand_boxes if intersects(detail['coordinates'], convert(b))), None)\n",
    "        if representative:\n",
    "            merged_brand_boxes.append({\n",
    "                'frame_index': representative['frame_index'],\n",
    "                'timestamp': representative['timestamp'],\n",
    "                'brand_name': ' '.join(detail['brands']),  # Join all brands as a comma-separated string\n",
    "                'box_coordinates': detail['coordinates']\n",
    "            })\n",
    "\n",
    "    return merged_brand_boxes"
   ],
   "id": "187f26f2a8d5ab4b",
   "outputs": [],
   "execution_count": 15
  },
  {
   "metadata": {
    "ExecuteTime": {
     "end_time": "2024-04-19T21:57:38.436036Z",
     "start_time": "2024-04-19T21:57:38.415561Z"
    }
   },
   "cell_type": "code",
   "source": [
    "def save_brand_name_data(sample_frames, video_name):\n",
    "    # store the output in csv file\n",
    "    output_dir = root_dir / 'output' / video_name\n",
    "    output_dir.mkdir(parents=True, exist_ok=True)\n",
    "        \n",
    "    frame_data = []\n",
    "    \n",
    "    for frame in sample_frames:\n",
    "        if frame['contains_brand_name']:\n",
    "            brands = []\n",
    "            for brand in frame['brand_names']:\n",
    "                brands.append({\n",
    "                    'frame_index': frame['frame_index'],\n",
    "                    'timestamp': frame['timestamp'],\n",
    "                    'brand_name': brand['brand_name'],\n",
    "                    'box_coordinates': brand['box_coordinates']\n",
    "                })\n",
    "\n",
    "            merged_boxes = merge_nearby_boxes(brands)\n",
    "            \n",
    "            frame_data.extend(merged_boxes)\n",
    "                \n",
    "    df = pd.DataFrame(frame_data)\n",
    "                \n",
    "    csv_file = output_dir / f'{video_name}.csv'\n",
    "    \n",
    "    df.to_csv(csv_file, index=False)\n",
    "    \n",
    "    return csv_file"
   ],
   "id": "ef8c8b7099b9f299",
   "outputs": [],
   "execution_count": 16
  },
  {
   "metadata": {},
   "cell_type": "markdown",
   "source": "## Pipeline",
   "id": "83dac7e193a4bce0"
  },
  {
   "metadata": {},
   "cell_type": "markdown",
   "source": "### Video",
   "id": "245da4eb7aeb6ebd"
  },
  {
   "metadata": {
    "ExecuteTime": {
     "end_time": "2024-04-19T21:57:38.460333Z",
     "start_time": "2024-04-19T21:57:38.437729Z"
    }
   },
   "cell_type": "code",
   "source": [
    "video = videos[2]\n",
    "video"
   ],
   "id": "31396b8e40b8f588",
   "outputs": [
    {
     "data": {
      "text/plain": [
       "PosixPath('/mnt/d/Projects_D/Brand_Extractor/data/video_preprocessing/videos/royal_houseguard_westfield_mall.mp4')"
      ]
     },
     "execution_count": 17,
     "metadata": {},
     "output_type": "execute_result"
    }
   ],
   "execution_count": 17
  },
  {
   "metadata": {},
   "cell_type": "markdown",
   "source": "### Video Processor",
   "id": "267e81ae954dba4b"
  },
  {
   "metadata": {
    "ExecuteTime": {
     "end_time": "2024-04-19T21:57:39.551468Z",
     "start_time": "2024-04-19T21:57:38.462432Z"
    }
   },
   "cell_type": "code",
   "source": "video_processor = VideoProcessor(video)",
   "id": "c01fffc0027aa23c",
   "outputs": [
    {
     "name": "stdout",
     "output_type": "stream",
     "text": [
      "Model summary: 295 layers, 25856899 parameters, 0 gradients, 79.1 GFLOPs\n",
      "(295, 25856899, 0, 79.0656)\n"
     ]
    }
   ],
   "execution_count": 18
  },
  {
   "metadata": {
    "ExecuteTime": {
     "end_time": "2024-04-19T21:57:39.558541Z",
     "start_time": "2024-04-19T21:57:39.553434Z"
    }
   },
   "cell_type": "code",
   "source": "video_processor.fps",
   "id": "683475b5d1431d6c",
   "outputs": [
    {
     "data": {
      "text/plain": [
       "30.0"
      ]
     },
     "execution_count": 19,
     "metadata": {},
     "output_type": "execute_result"
    }
   ],
   "execution_count": 19
  },
  {
   "metadata": {
    "ExecuteTime": {
     "end_time": "2024-04-19T22:01:28.729372Z",
     "start_time": "2024-04-19T21:57:39.560293Z"
    }
   },
   "cell_type": "code",
   "source": "frame_data = video_processor.extract_frames()",
   "id": "cad74ea3f169e5aa",
   "outputs": [
    {
     "name": "stderr",
     "output_type": "stream",
     "text": [
      "100%|██████████| 37667/37667 [03:48<00:00, 164.94it/s]\n"
     ]
    },
    {
     "name": "stdout",
     "output_type": "stream",
     "text": [
      "['&stradivarius', 'stradivarius', 'stradivarrus', '&stradivariu', 'tradivarius', '&stradivari', 'stradiva', 'stradiv', '&stra']\n",
      "['60%OFF']\n",
      "['7Martens', 'D.Marlens', 'D.Martens', 'D.Marte']\n",
      "['@pullandbear']\n",
      "['AANDMIADE']\n",
      "['AFFE']\n",
      "['AFRICA']\n",
      "['AILANO']\n",
      "['H·SAMUEI', 'H·SAMUEL', 'H.SAMUEL', 'H.SAMULL', 'SAMUEI', 'AMUEI', 'AMUEL', 'MUEL']\n",
      "['LANCOME', 'ANCOME']\n",
      "['ANDEY']\n",
      "['ARKET']\n",
      "['ARMANI EXCHANGE', 'ARMANI EXCHANG', 'ARMANI']\n",
      "['ASPERS']\n",
      "['BALANS']\n",
      "['BANK HERE']\n",
      "['BEAOO']\n",
      "['HUGO BOSS', 'HUGO BOS', 'HUGOBOSS', 'JUGO BOS', 'MOSSBROS', 'HUGO OS', 'HUGOBOS', 'BOSS', 'BROS', 'HUGO']\n",
      "['LOMBON', 'BPON']\n",
      "['BROWNS']\n",
      "['BUZZBIKE', 'BUZZOIKE', 'DUZZBIKE', 'DUZZDIKE', 'DUZZOIKE']\n",
      "['BUZZOZRE']\n",
      "['BoOLs']\n",
      "['BooLs']\n",
      "['Bools']\n",
      "['Boots']\n",
      "['Bots']\n",
      "['Broadway']\n",
      "['Bupenthy']\n",
      "['Buy Now']\n",
      "['CALLIOENLE']\n",
      "['CALLLOLNLL']\n",
      "['CALZEDONIA', 'CALZEDON', 'CALZEDO']\n",
      "['CARVELA', 'CARVI', 'CARV']\n",
      "['CASINO']\n",
      "['PHONE CHARGING HERE', 'CHARGING']\n",
      "['CHOICE·', 'CHGICE', 'CHOICE', 'HOICE']\n",
      "['CLINIC', 'INIC']\n",
      "['CONS']\n",
      "['COSMETICS']\n",
      "['CalvinKle', 'Caivin', 'Calvil', 'Calvin', 'Calvir', 'Calvi']\n",
      "['Cuensy']\n",
      "['DUTFI', 'DUTF']\n",
      "['NO ENTRY', 'ENTRY']\n",
      "['EPULL&BEAR', 'TPULLBEAR', 'PULL&BEAR', 'PUL&BEAR']\n",
      "['EVEI']\n",
      "['VERYDAY', 'EVERYD']\n",
      "['NO EXIT', 'O EXIT', 'EXIT']\n",
      "['FOLLOWUS ON0000']\n",
      "['FOOTAGYUN', 'FOOTAYIN', 'FOOTAYUN']\n",
      "['FOOTASYLUMACOM', 'FOOTASYLUM.COM']\n",
      "['FOSSIL', 'FOSSI']\n",
      "['FRESH']\n",
      "['Flavoul']\n",
      "['Foot Lockei', 'Foot Locker', 'Oot Locker']\n",
      "['GAME']\n",
      "['GILLY HICKS']\n",
      "['GREEN WALLS?']\n",
      "['GREGGS']\n",
      "['GUESS']\n",
      "['GUIens']\n",
      "['THEADYSHO', 'H-SAHUEL', 'TSAHEAD', 'SAHEAL', 'HEAD']\n",
      "['HAVEYOU SEEN OUR']\n",
      "['HISS OI9R']\n",
      "['HISS OTNA']\n",
      "['HORPNE']\n",
      "['HneOB']\n",
      "['INGLOT', 'INGLO', 'NGLOT', 'NGLO']\n",
      "['ISLAND', 'SLAND']\n",
      "['ISUNG']\n",
      "[\"IT'STIMEFOR\"]\n",
      "['JAME']\n",
      "['JLICE']\n",
      "['John Lewis', 'ohn Lewis', 'Lewis', 'ewis']\n",
      "['KIK.C', 'KIK.']\n",
      "['KIKC']\n",
      "['KIKO', 'KIKO.']\n",
      "['LACOSTE']\n",
      "['LEIIA']\n",
      "['LEIIIA']\n",
      "['LEVOLUY']\n",
      "['LUSHRESH', 'LUSH']\n",
      "['Leap']\n",
      "[\"Levi's\"]\n",
      "['MASS TA']\n",
      "['MILAHO', 'MILAaO']\n",
      "['MISS 01A']\n",
      "['MISS D195', 'MISS D199', 'MISS D19A', 'MISS DI9A', 'MISS DIVA', 'MISS DIYA', 'MISS DTYA', 'MISSDINA', 'MISSDIVA', 'MISS DI', 'MISSDNA']\n",
      "['MISS OUA', 'MISSOTUA']\n",
      "['MONK']\n",
      "['MORPHE']\n",
      "['MOUNTAIN']\n",
      "['SAMSUNG', 'MSUNG', 'SAMSU']\n",
      "['MULYSATO', 'MULYATO']\n",
      "['WEEKDAY', 'NEEKDA', 'WEEKDA)']\n",
      "['NEW LOOK', 'NEWLOOK']\n",
      "['Namu']\n",
      "['NatNest', 'NatWest', 'atwest']\n",
      "['O2LE']\n",
      "['OAMTOSAM']\n",
      "['OFTRAINER', 'OFTRAI', 'RBAI']\n",
      "['OLLST']\n",
      "['OLYMPIC PARK', 'OLYMPICPARK', 'OLYMPICPARX']\n",
      "['ONLINE&IN-STORE', 'ONLINE']\n",
      "['OOPSNCFAEC']\n",
      "['OPENING HOURS']\n",
      "['YOUBUY', 'OUBUY']\n",
      "['OUIZ']\n",
      "['OURENELZAIETH']\n",
      "['PAPA']\n",
      "['PENNY']\n",
      "['PLAN-CHOS']\n",
      "['POLICE']\n",
      "['Peals']\n",
      "['Prelals']\n",
      "['Pretels', 'retzels']\n",
      "['QDDRING']\n",
      "['QUEEN ELIZABETH', 'QUEEN ELIZASETH']\n",
      "['REDKEN']\n",
      "['RIVER']\n",
      "['Resffield']\n",
      "['Rools']\n",
      "['RotnrStonis', 'oturStomnis']\n",
      "['RotonSomis']\n",
      "[\"Rotow'Sena\"]\n",
      "['SAESNN']\n",
      "['SALE']\n",
      "['SHEN']\n",
      "['SKECHERS']\n",
      "['SLANO']\n",
      "['STRATFORD STATION']\n",
      "['SeLet']\n",
      "['Seled']\n",
      "[\"Selet'\"]\n",
      "['SuperdryStore', 'Supardry', 'dhyStore']\n",
      "['Sutenc']\n",
      "['TA2VUW']\n",
      "['TAPI']\n",
      "['TCSAMOND 1TOS1']\n",
      "['TED JAKEN']\n",
      "['TTERS', 'TERS']\n",
      "['THE BODY SHOP', 'THE BODY SHOP.', 'THEBOOY SHOF']\n",
      "['THE PERFUME SHOE']\n",
      "['THEDIAMONO']\n",
      "['TNEPERFNN']\n",
      "['TORTILLA']\n",
      "['TRUE RELIGION']\n",
      "['TheFragrance Shop']\n",
      "['Thepower']\n",
      "['TikTok', 'dTkTok']\n",
      "['Timberdand', 'Timberand', 'berland']\n",
      "['Tkemax']\n",
      "['UNDER ARMOUR']\n",
      "['URBAN']\n",
      "['VANS']\n",
      "['VHATEVER', 'WHATEVER']\n",
      "['VISA']\n",
      "['Vestiteld', 'WWestfeld', 'Wentfield', 'Westfield', 'Westhield', 'Vestteld', \"W'stfield\", 'Wectfeld!', 'Westfeld', 'Westield', 'Wetfeld']\n",
      "['WE ACCEPT']\n",
      "[\"WE'RENOW ON\", \"WE'RENOWON\"]\n",
      "['WEBUY']\n",
      "['WYOUPAY WATTEES']\n",
      "['Wenulas']\n",
      "['Westtetd']\n",
      "['Wi-FI']\n",
      "['WoridFamous']\n",
      "['World-F', 'Worldp']\n",
      "['YBTVEOM']\n",
      "['YIIET']\n",
      "['Yestfeu']\n",
      "['ZARA']\n",
      "['adidas']\n",
      "['adopt']\n",
      "['aexr']\n",
      "['best']\n",
      "['buiddoys']\n",
      "['change', 'hange']\n",
      "['daires']\n",
      "['eLed']\n",
      "['fexr']\n",
      "['foodcourt', 'foodcout']\n",
      "['fral']\n",
      "['therapie', 'herape']\n",
      "['mobiebitz']\n",
      "['nexi']\n",
      "['nexr']\n",
      "['ofkindness']\n",
      "['pair']\n",
      "['pinlberry']\n",
      "['schuh', 'schuh)']\n",
      "['scnl']\n",
      "['shopping', 'shopping.']\n",
      "['smiggie', 'smiggle.', 'sniggie', 'smggle']\n",
      "['snniggle']\n",
      "['sunglasshut']\n",
      "['supartihy']\n",
      "['superaryStoro']\n",
      "['swatch+']\n",
      "['theSTKEE']\n",
      "['today']\n",
      "['vodafone']\n"
     ]
    }
   ],
   "execution_count": 20
  },
  {
   "metadata": {
    "ExecuteTime": {
     "end_time": "2024-04-19T22:01:28.740274Z",
     "start_time": "2024-04-19T22:01:28.731929Z"
    }
   },
   "cell_type": "code",
   "source": "len(video_processor.frames)",
   "id": "82516ffbc58703d1",
   "outputs": [
    {
     "data": {
      "text/plain": [
       "1256"
      ]
     },
     "execution_count": 21,
     "metadata": {},
     "output_type": "execute_result"
    }
   ],
   "execution_count": 21
  },
  {
   "metadata": {},
   "cell_type": "markdown",
   "source": "### Saving Extracted Brand Name",
   "id": "d430aa626eecaf3f"
  },
  {
   "metadata": {
    "ExecuteTime": {
     "end_time": "2024-04-19T22:01:28.775332Z",
     "start_time": "2024-04-19T22:01:28.741624Z"
    }
   },
   "cell_type": "code",
   "source": "output_file = save_brand_name_data(frame_data, video_processor.video_name)",
   "id": "4c48047df4fdf1dd",
   "outputs": [],
   "execution_count": 22
  },
  {
   "metadata": {
    "ExecuteTime": {
     "end_time": "2024-04-19T22:01:28.798798Z",
     "start_time": "2024-04-19T22:01:28.777291Z"
    }
   },
   "cell_type": "code",
   "source": [
    "df = pd.read_csv(output_file)\n",
    "df.head()"
   ],
   "id": "1804b7a85eb0add5",
   "outputs": [
    {
     "data": {
      "text/plain": [
       "   frame_index  timestamp     brand_name         box_coordinates\n",
       "0            0        0.0         Levi's  (1119, 361, 1258, 412)\n",
       "1            1        1.0  &stradivarius    (295, 476, 393, 523)\n",
       "2            2        2.0        CARVELA    (676, 433, 801, 497)\n",
       "3            3        3.0        CARVELA  (1059, 429, 1185, 495)\n",
       "4            4        4.0   @pullandbear    (283, 674, 418, 749)"
      ],
      "text/html": [
       "<div>\n",
       "<style scoped>\n",
       "    .dataframe tbody tr th:only-of-type {\n",
       "        vertical-align: middle;\n",
       "    }\n",
       "\n",
       "    .dataframe tbody tr th {\n",
       "        vertical-align: top;\n",
       "    }\n",
       "\n",
       "    .dataframe thead th {\n",
       "        text-align: right;\n",
       "    }\n",
       "</style>\n",
       "<table border=\"1\" class=\"dataframe\">\n",
       "  <thead>\n",
       "    <tr style=\"text-align: right;\">\n",
       "      <th></th>\n",
       "      <th>frame_index</th>\n",
       "      <th>timestamp</th>\n",
       "      <th>brand_name</th>\n",
       "      <th>box_coordinates</th>\n",
       "    </tr>\n",
       "  </thead>\n",
       "  <tbody>\n",
       "    <tr>\n",
       "      <th>0</th>\n",
       "      <td>0</td>\n",
       "      <td>0.0</td>\n",
       "      <td>Levi's</td>\n",
       "      <td>(1119, 361, 1258, 412)</td>\n",
       "    </tr>\n",
       "    <tr>\n",
       "      <th>1</th>\n",
       "      <td>1</td>\n",
       "      <td>1.0</td>\n",
       "      <td>&amp;stradivarius</td>\n",
       "      <td>(295, 476, 393, 523)</td>\n",
       "    </tr>\n",
       "    <tr>\n",
       "      <th>2</th>\n",
       "      <td>2</td>\n",
       "      <td>2.0</td>\n",
       "      <td>CARVELA</td>\n",
       "      <td>(676, 433, 801, 497)</td>\n",
       "    </tr>\n",
       "    <tr>\n",
       "      <th>3</th>\n",
       "      <td>3</td>\n",
       "      <td>3.0</td>\n",
       "      <td>CARVELA</td>\n",
       "      <td>(1059, 429, 1185, 495)</td>\n",
       "    </tr>\n",
       "    <tr>\n",
       "      <th>4</th>\n",
       "      <td>4</td>\n",
       "      <td>4.0</td>\n",
       "      <td>@pullandbear</td>\n",
       "      <td>(283, 674, 418, 749)</td>\n",
       "    </tr>\n",
       "  </tbody>\n",
       "</table>\n",
       "</div>"
      ]
     },
     "execution_count": 23,
     "metadata": {},
     "output_type": "execute_result"
    }
   ],
   "execution_count": 23
  },
  {
   "metadata": {
    "ExecuteTime": {
     "end_time": "2024-04-19T22:01:28.804278Z",
     "start_time": "2024-04-19T22:01:28.800749Z"
    }
   },
   "cell_type": "code",
   "source": "",
   "id": "ab4293d78d8666f4",
   "outputs": [],
   "execution_count": 23
  },
  {
   "metadata": {},
   "cell_type": "markdown",
   "source": "# End",
   "id": "b125f9af47c1998b"
  }
 ],
 "metadata": {
  "kernelspec": {
   "display_name": "Python 3",
   "language": "python",
   "name": "python3"
  },
  "language_info": {
   "codemirror_mode": {
    "name": "ipython",
    "version": 2
   },
   "file_extension": ".py",
   "mimetype": "text/x-python",
   "name": "python",
   "nbconvert_exporter": "python",
   "pygments_lexer": "ipython2",
   "version": "2.7.6"
  }
 },
 "nbformat": 4,
 "nbformat_minor": 5
}
