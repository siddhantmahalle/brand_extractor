{
 "cells": [
  {
   "metadata": {},
   "cell_type": "markdown",
   "source": "# Brand Logo and Name Extraction Pipeline",
   "id": "d3d75f1e225042ca"
  },
  {
   "metadata": {},
   "cell_type": "markdown",
   "source": "## Import Libraries",
   "id": "8c044c4385ab09fd"
  },
  {
   "metadata": {
    "ExecuteTime": {
     "end_time": "2024-04-18T06:11:24.307876Z",
     "start_time": "2024-04-18T06:11:24.301594Z"
    }
   },
   "cell_type": "code",
   "source": [
    "import os\n",
    "import cv2\n",
    "from pathlib import Path\n",
    "\n",
    "from tqdm import tqdm\n",
    "import numpy as np\n",
    "import matplotlib.pyplot as plt\n",
    "\n",
    "from skimage.metrics import structural_similarity as ssim"
   ],
   "id": "bee5fc3cbe4477f9",
   "outputs": [],
   "execution_count": 11
  },
  {
   "metadata": {
    "ExecuteTime": {
     "end_time": "2024-04-18T05:51:41.625056Z",
     "start_time": "2024-04-18T05:51:41.619257Z"
    }
   },
   "cell_type": "code",
   "source": [
    "root_dir = Path.cwd().parent.parent\n",
    "root_dir"
   ],
   "id": "ebd684fcd9200a27",
   "outputs": [
    {
     "data": {
      "text/plain": [
       "PosixPath('/mnt/d/Projects_D/Brand_Extractor')"
      ]
     },
     "execution_count": 3,
     "metadata": {},
     "output_type": "execute_result"
    }
   ],
   "execution_count": 3
  },
  {
   "metadata": {},
   "cell_type": "markdown",
   "source": "## Config",
   "id": "c273e206d2d20165"
  },
  {
   "metadata": {
    "ExecuteTime": {
     "end_time": "2024-04-18T05:52:10.473090Z",
     "start_time": "2024-04-18T05:52:10.470294Z"
    }
   },
   "cell_type": "code",
   "source": [
    "class Config:\n",
    "    sample_fps = 1 # Sample sample_fps frame per second"
   ],
   "id": "e4da59902eaccb93",
   "outputs": [],
   "execution_count": 4
  },
  {
   "metadata": {
    "ExecuteTime": {
     "end_time": "2024-04-18T06:05:40.163573Z",
     "start_time": "2024-04-18T06:05:40.160081Z"
    }
   },
   "cell_type": "code",
   "source": "CONFIG = Config()",
   "id": "ee60cd76a4a357c0",
   "outputs": [],
   "execution_count": 9
  },
  {
   "metadata": {},
   "cell_type": "markdown",
   "source": "## Data",
   "id": "abf33707c7af5891"
  },
  {
   "metadata": {
    "ExecuteTime": {
     "end_time": "2024-04-18T05:58:04.289576Z",
     "start_time": "2024-04-18T05:58:04.286690Z"
    }
   },
   "cell_type": "code",
   "source": "data_dir = root_dir / 'data' / 'video_preprocessing' / 'videos'",
   "id": "ad5458834929635e",
   "outputs": [],
   "execution_count": 5
  },
  {
   "metadata": {
    "ExecuteTime": {
     "end_time": "2024-04-18T05:59:57.849320Z",
     "start_time": "2024-04-18T05:59:57.844022Z"
    }
   },
   "cell_type": "code",
   "source": [
    "videos = list(data_dir.glob('*.mp4'))\n",
    "videos"
   ],
   "id": "6e9a729c4f0e664e",
   "outputs": [
    {
     "data": {
      "text/plain": [
       "[PosixPath('/mnt/d/Projects_D/Brand_Extractor/data/video_preprocessing/videos/tanishq_mishra_vlogs_lulu_mall.mp4'),\n",
       " PosixPath('/mnt/d/Projects_D/Brand_Extractor/data/video_preprocessing/videos/the_explorer_raj_dlf_mall.mp4'),\n",
       " PosixPath('/mnt/d/Projects_D/Brand_Extractor/data/video_preprocessing/videos/travel_with_chris_crazy_market_spree.mp4')]"
      ]
     },
     "execution_count": 8,
     "metadata": {},
     "output_type": "execute_result"
    }
   ],
   "execution_count": 8
  },
  {
   "metadata": {},
   "cell_type": "markdown",
   "source": "## Pipeline Steps",
   "id": "59e3675c23d95f21"
  },
  {
   "metadata": {},
   "cell_type": "markdown",
   "source": [
    "The pipeline consists of the following steps:\n",
    "1. Video processing (extracting frames)\n",
    "2. Image processing (extracting brand logo and name)\n",
    "3. Text recognition (extracting brand name)\n",
    "4. Saving the extracted brand logo and name"
   ],
   "id": "55f739fef231d2ca"
  },
  {
   "metadata": {},
   "cell_type": "markdown",
   "source": "## Video Processing",
   "id": "e71da83389b12d25"
  },
  {
   "metadata": {},
   "cell_type": "code",
   "outputs": [],
   "execution_count": null,
   "source": [
    "class VideoProcessor:\n",
    "    def __init__(self, video_path):\n",
    "        self.video_path = video_path\n",
    "        self.video_name = video_path.stem\n",
    "        self.video = cv2.VideoCapture(str(video_path))\n",
    "        self.fps = self.video.get(cv2.CAP_PROP_FPS)\n",
    "        self.total_frames = int(self.video.get(cv2.CAP_PROP_FRAME_COUNT))\n",
    "        self.frame_width = int(self.video.get(cv2.CAP_PROP_FRAME_WIDTH))\n",
    "        self.frame_height = int(self.video.get(cv2.CAP_PROP_FRAME_HEIGHT))\n",
    "        self.frame_shape = (self.frame_height, self.frame_width)\n",
    "        self.sample_fps = CONFIG.sample_fps\n",
    "        \n",
    "        self.frames = []\n",
    "        self.similar_frames = []\n",
    "    \n",
    "    def extract_frames(self, frame_interval=1):\n",
    "        frames = []\n",
    "        for i in range(0, self.total_frames, (int(self.fps) // self.sample_fps * frame_interval)):\n",
    "            self.video.set(cv2.CAP_PROP_POS_FRAMES, i)\n",
    "            ret, frame = self.video.read()\n",
    "            if ret:\n",
    "                frame = cv2.cvtColor(frame, cv2.COLOR_BGR2RGB)\n",
    "                frames.append(frame)\n",
    "        self.frames = frames\n",
    "    \n",
    "    def find_similar_frames(self, threshold=0.9):\n",
    "        similar_frames = []\n",
    "        for i in tqdm(range(len(self.frames)-1)):\n",
    "            frame1 = self.frames[i]\n",
    "            frame2 = self.frames[i+1]\n",
    "            \n",
    "            frame1_gray = cv2.cvtColor(frame1, cv2.COLOR_RGB2GRAY)\n",
    "            frame2_gray = cv2.cvtColor(frame2, cv2.COLOR_RGB2GRAY)\n",
    "\n",
    "            (score, _) = ssim(frame1_gray, frame2_gray, full=True)\n",
    "            if score > threshold:\n",
    "                similar_frames.append((i, i+1))\n",
    "                \n",
    "        self.similar_frames = similar_frames\n",
    "                \n",
    "    \n",
    "    "
   ],
   "id": "44146430faae224c"
  }
 ],
 "metadata": {
  "kernelspec": {
   "display_name": "Python 3",
   "language": "python",
   "name": "python3"
  },
  "language_info": {
   "codemirror_mode": {
    "name": "ipython",
    "version": 2
   },
   "file_extension": ".py",
   "mimetype": "text/x-python",
   "name": "python",
   "nbconvert_exporter": "python",
   "pygments_lexer": "ipython2",
   "version": "2.7.6"
  }
 },
 "nbformat": 4,
 "nbformat_minor": 5
}
