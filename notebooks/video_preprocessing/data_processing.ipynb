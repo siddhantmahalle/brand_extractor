{
 "cells": [
  {
   "metadata": {},
   "cell_type": "markdown",
   "source": "# Data Preprocessing",
   "id": "e5d46396c91d64d2"
  },
  {
   "metadata": {},
   "cell_type": "markdown",
   "source": "## Import libraries",
   "id": "469964f81fd0296d"
  },
  {
   "metadata": {
    "ExecuteTime": {
     "end_time": "2024-04-18T05:20:19.567261Z",
     "start_time": "2024-04-18T05:20:19.334623Z"
    }
   },
   "cell_type": "code",
   "source": [
    "import os\n",
    "import json\n",
    "from pathlib import Path\n",
    "\n",
    "import cv2\n",
    "import numpy as np"
   ],
   "id": "86a40dfff3b10f8b",
   "outputs": [],
   "execution_count": 1
  },
  {
   "metadata": {
    "ExecuteTime": {
     "end_time": "2024-04-18T05:20:19.574019Z",
     "start_time": "2024-04-18T05:20:19.568715Z"
    }
   },
   "cell_type": "code",
   "source": [
    "root_dir = Path(os.getcwd()).parent.parent\n",
    "root_dir"
   ],
   "id": "c004e59aa0fdfa20",
   "outputs": [
    {
     "data": {
      "text/plain": [
       "PosixPath('/mnt/d/Projects_D/Brand_Extractor')"
      ]
     },
     "execution_count": 2,
     "metadata": {},
     "output_type": "execute_result"
    }
   ],
   "execution_count": 2
  },
  {
   "metadata": {},
   "cell_type": "markdown",
   "source": "## Load data",
   "id": "6c82c3780a208138"
  },
  {
   "metadata": {
    "ExecuteTime": {
     "end_time": "2024-04-18T05:20:19.770062Z",
     "start_time": "2024-04-18T05:20:19.764776Z"
    }
   },
   "cell_type": "code",
   "source": [
    "data_dir = root_dir / 'data' / 'video_preprocessing'\n",
    "data_dir"
   ],
   "id": "c92c148719ecafd",
   "outputs": [
    {
     "data": {
      "text/plain": [
       "PosixPath('/mnt/d/Projects_D/Brand_Extractor/data/video_preprocessing')"
      ]
     },
     "execution_count": 3,
     "metadata": {},
     "output_type": "execute_result"
    }
   ],
   "execution_count": 3
  },
  {
   "metadata": {
    "ExecuteTime": {
     "end_time": "2024-04-18T05:20:21.523190Z",
     "start_time": "2024-04-18T05:20:21.519094Z"
    }
   },
   "cell_type": "code",
   "source": [
    "video_dir = data_dir / 'videos'\n",
    "video_dir"
   ],
   "id": "ad9ff6df7f4a87b8",
   "outputs": [
    {
     "data": {
      "text/plain": [
       "PosixPath('/mnt/d/Projects_D/Brand_Extractor/data/video_preprocessing/videos')"
      ]
     },
     "execution_count": 4,
     "metadata": {},
     "output_type": "execute_result"
    }
   ],
   "execution_count": 4
  },
  {
   "metadata": {
    "ExecuteTime": {
     "end_time": "2024-04-18T05:20:21.773587Z",
     "start_time": "2024-04-18T05:20:21.769291Z"
    }
   },
   "cell_type": "code",
   "source": [
    "frame_dir = data_dir / 'frames'\n",
    "frame_dir"
   ],
   "id": "702fee01ce651196",
   "outputs": [
    {
     "data": {
      "text/plain": [
       "PosixPath('/mnt/d/Projects_D/Brand_Extractor/data/video_preprocessing/frames')"
      ]
     },
     "execution_count": 5,
     "metadata": {},
     "output_type": "execute_result"
    }
   ],
   "execution_count": 5
  },
  {
   "metadata": {
    "ExecuteTime": {
     "end_time": "2024-04-18T05:20:21.993882Z",
     "start_time": "2024-04-18T05:20:21.987419Z"
    }
   },
   "cell_type": "code",
   "source": "video_files = list(video_dir.glob('*.mp4'))",
   "id": "dae89a57aeee942f",
   "outputs": [],
   "execution_count": 6
  },
  {
   "metadata": {
    "ExecuteTime": {
     "end_time": "2024-04-18T05:20:22.491539Z",
     "start_time": "2024-04-18T05:20:22.487402Z"
    }
   },
   "cell_type": "code",
   "source": "video_files",
   "id": "c5e8c3fc6006a10a",
   "outputs": [
    {
     "data": {
      "text/plain": [
       "[PosixPath('/mnt/d/Projects_D/Brand_Extractor/data/video_preprocessing/videos/tanishq_mishra_vlogs_lulu_mall.mp4'),\n",
       " PosixPath('/mnt/d/Projects_D/Brand_Extractor/data/video_preprocessing/videos/the_explorer_raj_dlf_mall.mp4'),\n",
       " PosixPath('/mnt/d/Projects_D/Brand_Extractor/data/video_preprocessing/videos/travel_with_chris_crazy_market_spree.mp4')]"
      ]
     },
     "execution_count": 7,
     "metadata": {},
     "output_type": "execute_result"
    }
   ],
   "execution_count": 7
  },
  {
   "metadata": {
    "ExecuteTime": {
     "end_time": "2024-04-18T05:20:25.859822Z",
     "start_time": "2024-04-18T05:20:25.856338Z"
    }
   },
   "cell_type": "code",
   "source": "video_file = video_files[1]",
   "id": "fbe3f4cd2cb462f4",
   "outputs": [],
   "execution_count": 8
  },
  {
   "metadata": {
    "ExecuteTime": {
     "end_time": "2024-04-18T05:20:26.471940Z",
     "start_time": "2024-04-18T05:20:26.467450Z"
    }
   },
   "cell_type": "code",
   "source": [
    "video_name = video_file.stem\n",
    "video_name"
   ],
   "id": "9e7060c3a407d054",
   "outputs": [
    {
     "data": {
      "text/plain": [
       "'the_explorer_raj_dlf_mall'"
      ]
     },
     "execution_count": 9,
     "metadata": {},
     "output_type": "execute_result"
    }
   ],
   "execution_count": 9
  },
  {
   "metadata": {},
   "cell_type": "markdown",
   "source": "## Load video",
   "id": "be8d1db900169e41"
  },
  {
   "metadata": {
    "ExecuteTime": {
     "end_time": "2024-04-18T05:20:28.187017Z",
     "start_time": "2024-04-18T05:20:28.129709Z"
    }
   },
   "cell_type": "code",
   "source": "video_capture = cv2.VideoCapture(str(video_file))",
   "id": "e8a26f0f70709b7b",
   "outputs": [],
   "execution_count": 10
  },
  {
   "metadata": {
    "ExecuteTime": {
     "end_time": "2024-04-18T05:20:28.621635Z",
     "start_time": "2024-04-18T05:20:28.615646Z"
    }
   },
   "cell_type": "code",
   "source": "video_capture.isOpened()",
   "id": "f34f7006563c39a9",
   "outputs": [
    {
     "data": {
      "text/plain": [
       "True"
      ]
     },
     "execution_count": 11,
     "metadata": {},
     "output_type": "execute_result"
    }
   ],
   "execution_count": 11
  },
  {
   "metadata": {
    "ExecuteTime": {
     "end_time": "2024-04-18T05:20:30.087337Z",
     "start_time": "2024-04-18T05:20:30.081205Z"
    }
   },
   "cell_type": "code",
   "source": [
    "video_fps = video_capture.get(cv2.CAP_PROP_FPS)\n",
    "video_fps"
   ],
   "id": "661d10b720c0d805",
   "outputs": [
    {
     "data": {
      "text/plain": [
       "25.0"
      ]
     },
     "execution_count": 12,
     "metadata": {},
     "output_type": "execute_result"
    }
   ],
   "execution_count": 12
  },
  {
   "metadata": {
    "ExecuteTime": {
     "end_time": "2024-04-18T05:20:31.145263Z",
     "start_time": "2024-04-18T05:20:31.141404Z"
    }
   },
   "cell_type": "code",
   "source": [
    "total_frames = int(video_capture.get(cv2.CAP_PROP_FRAME_COUNT))\n",
    "total_frames"
   ],
   "id": "5af5b2782392a648",
   "outputs": [
    {
     "data": {
      "text/plain": [
       "38392"
      ]
     },
     "execution_count": 13,
     "metadata": {},
     "output_type": "execute_result"
    }
   ],
   "execution_count": 13
  },
  {
   "metadata": {
    "ExecuteTime": {
     "end_time": "2024-04-18T05:20:32.416203Z",
     "start_time": "2024-04-18T05:20:32.411865Z"
    }
   },
   "cell_type": "code",
   "source": [
    "video_width = int(video_capture.get(cv2.CAP_PROP_FRAME_WIDTH))\n",
    "video_height = int(video_capture.get(cv2.CAP_PROP_FRAME_HEIGHT))\n",
    "video_width, video_height"
   ],
   "id": "d757f47248573284",
   "outputs": [
    {
     "data": {
      "text/plain": [
       "(1920, 1080)"
      ]
     },
     "execution_count": 14,
     "metadata": {},
     "output_type": "execute_result"
    }
   ],
   "execution_count": 14
  },
  {
   "metadata": {},
   "cell_type": "markdown",
   "source": "## Process Video",
   "id": "ef46b2a2a26b9a1"
  },
  {
   "metadata": {
    "ExecuteTime": {
     "end_time": "2024-04-18T05:20:33.611095Z",
     "start_time": "2024-04-18T05:20:33.608016Z"
    }
   },
   "cell_type": "code",
   "source": "sample_fps = 1",
   "id": "e86ae2be15362d15",
   "outputs": [],
   "execution_count": 15
  },
  {
   "metadata": {
    "ExecuteTime": {
     "end_time": "2024-04-18T05:20:35.054476Z",
     "start_time": "2024-04-18T05:20:35.048227Z"
    }
   },
   "cell_type": "code",
   "source": [
    "video_frame_dir = frame_dir / video_name\n",
    "video_frame_dir.mkdir(exist_ok=True)\n",
    "video_frame_dir"
   ],
   "id": "b1c12e44f0a21066",
   "outputs": [
    {
     "data": {
      "text/plain": [
       "PosixPath('/mnt/d/Projects_D/Brand_Extractor/data/video_preprocessing/frames/the_explorer_raj_dlf_mall')"
      ]
     },
     "execution_count": 16,
     "metadata": {},
     "output_type": "execute_result"
    }
   ],
   "execution_count": 16
  },
  {
   "metadata": {
    "ExecuteTime": {
     "end_time": "2024-04-18T05:20:35.561154Z",
     "start_time": "2024-04-18T05:20:35.555985Z"
    }
   },
   "cell_type": "code",
   "source": [
    "image_dir = video_frame_dir / 'images'\n",
    "image_dir.mkdir(exist_ok=True)\n",
    "image_dir"
   ],
   "id": "28d48dbb5403d6ca",
   "outputs": [
    {
     "data": {
      "text/plain": [
       "PosixPath('/mnt/d/Projects_D/Brand_Extractor/data/video_preprocessing/frames/the_explorer_raj_dlf_mall/images')"
      ]
     },
     "execution_count": 17,
     "metadata": {},
     "output_type": "execute_result"
    }
   ],
   "execution_count": 17
  },
  {
   "metadata": {
    "ExecuteTime": {
     "end_time": "2024-04-18T05:20:36.644731Z",
     "start_time": "2024-04-18T05:20:36.641265Z"
    }
   },
   "cell_type": "code",
   "source": [
    "frame_data = {\n",
    "    \"video\": video_name,\n",
    "    \"fps\": video_fps,\n",
    "    \"total_frames\": total_frames,\n",
    "    \"width\": video_width,\n",
    "    \"height\": video_height,\n",
    "    \"sample_fps\": sample_fps,\n",
    "    \"frames\": []\n",
    "}"
   ],
   "id": "35089afd2b5e8117",
   "outputs": [],
   "execution_count": 18
  },
  {
   "metadata": {
    "ExecuteTime": {
     "end_time": "2024-04-18T05:24:54.190163Z",
     "start_time": "2024-04-18T05:20:40.517770Z"
    }
   },
   "cell_type": "code",
   "source": [
    "# extract every 1 seconds\n",
    "for i in range(0, total_frames, int(video_fps/sample_fps)):\n",
    "    video_capture.set(cv2.CAP_PROP_POS_FRAMES, i)\n",
    "    ret, frame = video_capture.read()\n",
    "    if ret:\n",
    "        frame = cv2.cvtColor(frame, cv2.COLOR_BGR2RGB)\n",
    "        frame = cv2.resize(frame, (1280, 720))\n",
    "        frame_file = video_frame_dir / 'images' /f'{i//int(video_fps/sample_fps):04d}.png'\n",
    "        frame_data[\"frames\"].append({\n",
    "            \"frame\": f'{i//int(video_fps/sample_fps):04d}',\n",
    "            \"frame_file\": str(frame_file),\n",
    "            \"frame_timestamp\": i / video_fps\n",
    "            \n",
    "        })\n",
    "        cv2.imwrite(str(frame_file), cv2.cvtColor(frame, cv2.COLOR_RGB2BGR))"
   ],
   "id": "fcbf5c5430c5bd42",
   "outputs": [],
   "execution_count": 19
  },
  {
   "metadata": {
    "ExecuteTime": {
     "end_time": "2024-04-18T05:24:54.194085Z",
     "start_time": "2024-04-18T05:24:54.191557Z"
    }
   },
   "cell_type": "code",
   "source": "frame_data[\"sample_frames\"] = len(frame_data[\"frames\"])",
   "id": "eb1eb6de75e39c0f",
   "outputs": [],
   "execution_count": 20
  },
  {
   "metadata": {
    "ExecuteTime": {
     "end_time": "2024-04-18T05:24:54.206307Z",
     "start_time": "2024-04-18T05:24:54.195140Z"
    }
   },
   "cell_type": "code",
   "source": "frame_data.keys()",
   "id": "aee17080e3495fb4",
   "outputs": [
    {
     "data": {
      "text/plain": [
       "dict_keys(['video', 'fps', 'total_frames', 'width', 'height', 'sample_fps', 'frames', 'sample_frames'])"
      ]
     },
     "execution_count": 21,
     "metadata": {},
     "output_type": "execute_result"
    }
   ],
   "execution_count": 21
  },
  {
   "metadata": {
    "ExecuteTime": {
     "end_time": "2024-04-18T05:24:54.225726Z",
     "start_time": "2024-04-18T05:24:54.207835Z"
    }
   },
   "cell_type": "code",
   "source": [
    "# save frame data\n",
    "frame_data_file = video_frame_dir / 'frame_data.json'\n",
    "with open(frame_data_file, 'w') as f:\n",
    "    json.dump(frame_data, f)"
   ],
   "id": "d98331cf19b88958",
   "outputs": [],
   "execution_count": 22
  },
  {
   "metadata": {
    "ExecuteTime": {
     "end_time": "2024-04-18T05:24:54.231132Z",
     "start_time": "2024-04-18T05:24:54.226831Z"
    }
   },
   "cell_type": "code",
   "source": "video_capture.release()",
   "id": "6fbe8f451fc68a42",
   "outputs": [],
   "execution_count": 23
  },
  {
   "metadata": {
    "ExecuteTime": {
     "end_time": "2024-04-16T12:11:31.351175Z",
     "start_time": "2024-04-16T12:11:31.349106Z"
    }
   },
   "cell_type": "code",
   "source": "",
   "id": "4b54b2dc554a0d83",
   "outputs": [],
   "execution_count": 28
  },
  {
   "metadata": {},
   "cell_type": "markdown",
   "source": "# End",
   "id": "1343ba327fb2185d"
  }
 ],
 "metadata": {
  "kernelspec": {
   "display_name": "Python 3",
   "language": "python",
   "name": "python3"
  },
  "language_info": {
   "codemirror_mode": {
    "name": "ipython",
    "version": 2
   },
   "file_extension": ".py",
   "mimetype": "text/x-python",
   "name": "python",
   "nbconvert_exporter": "python",
   "pygments_lexer": "ipython2",
   "version": "2.7.6"
  }
 },
 "nbformat": 4,
 "nbformat_minor": 5
}
